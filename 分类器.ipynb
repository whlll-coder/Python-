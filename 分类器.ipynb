{
 "cells": [
  {
   "cell_type": "code",
   "execution_count": 33,
   "metadata": {},
   "outputs": [
    {
     "data": {
      "image/png": "[encoded data removed]",
      "text/plain": [
       "<Figure size 432x288 with 10 Axes>"
      ]
     },
     "metadata": {
      "needs_background": "light"
     },
     "output_type": "display_data"
    }
   ],
   "source": [
    "import matplotlib.pyplot as plt\n",
    "from sklearn import datasets\n",
    "\n",
    "# 加载digits数据\n",
    "digits = datasets.load_digits()\n",
    "\n",
    "# 在第2行第5列显示图像\n",
    "for label, img in zip(digits.target[:10], digits.images[:10]):\n",
    "    plt.subplot(2, 5, label+1)\n",
    "    plt.axis('off')\n",
    "    plt.imshow(img, cmap=plt.cm.gray_r, interpolation='nearest')\n",
    "    plt.title('Digit: {0}'.format(label))\n",
    "\n",
    "plt.show()"
   ]
  },
  {
   "cell_type": "code",
   "execution_count": 34,
   "metadata": {},
   "outputs": [],
   "source": [
    "import numpy as np\n",
    "from sklearn import datasets\n",
    "\n",
    "# 读取手写数字的数据\n",
    "digits = datasets.load_digits()\n",
    "\n",
    "# 求出3和8的数据位置\n",
    "flag_3_8 = (digits.target == 3) + (digits.target == 8)\n",
    "\n",
    "# 取得3和8的数据\n",
    "images = digits.images[flag_3_8]\n",
    "labels = digits.target[flag_3_8]\n",
    "\n",
    "# 把3和8的图像数据转成一堆数组\n",
    "images = images.reshape(images.shape[0], -1)"
   ]
  },
  {
   "cell_type": "code",
   "execution_count": 35,
   "metadata": {},
   "outputs": [
    {
     "data": {
      "text/plain": [
       "SVC(gamma=0.001)"
      ]
     },
     "execution_count": 35,
     "metadata": {},
     "output_type": "execute_result"
    }
   ],
   "source": [
    "from sklearn import svm\n",
    "\n",
    "# 分类器的生成\n",
    "n_samples = len(flag_3_8[flag_3_8])\n",
    "train_size = int(n_samples * 3 / 5)\n",
    "classifier = svm.SVC(C=1.0, gamma=0.001)\n",
    "classifier.fit(images[:train_size], labels[:train_size])"
   ]
  },
  {
   "cell_type": "code",
   "execution_count": 36,
   "metadata": {},
   "outputs": [
    {
     "name": "stdout",
     "output_type": "stream",
     "text": [
      "Accuracy:\n",
      " 0.9370629370629371\n",
      "\n",
      "Confusion  matrix:\n",
      " [[66  9]\n",
      " [ 0 68]]\n",
      "\n",
      "Precision:\n",
      " 1.0\n",
      "\n",
      "Recall:\n",
      " 0.88\n",
      "\n",
      "F-measure:\n",
      " 0.9361702127659575\n"
     ]
    }
   ],
   "source": [
    "from sklearn import metrics\n",
    "\n",
    "expected = labels[train_size:]\n",
    "predicted = classifier.predict(images[train_size:])\n",
    "\n",
    "print('Accuracy:\\n',\n",
    "metrics.accuracy_score(expected, predicted))\n",
    "\n",
    "print('\\nConfusion  matrix:\\n',\n",
    "metrics.confusion_matrix(expected, predicted))\n",
    "\n",
    "print('\\nPrecision:\\n',\n",
    "metrics.precision_score(expected, predicted, pos_label=3))\n",
    "\n",
    "print('\\nRecall:\\n',\n",
    "metrics.recall_score(expected, predicted, pos_label=3))\n",
    "\n",
    "print('\\nF-measure:\\n',\n",
    "metrics.f1_score(expected, predicted, pos_label=3))"
   ]
  }
 ],
 "metadata": {
  "interpreter": {
   "hash": "c752ce38e233cb3807dc7ac197cc81566ab743c91ce0b86f396db60c11ee55a5"
  },
  "kernelspec": {
   "display_name": "Python 3.7.11 64-bit ('torch': conda)",
   "language": "python",
   "name": "python3"
  },
  "language_info": {
   "codemirror_mode": {
    "name": "ipython",
    "version": 3
   },
   "file_extension": ".py",
   "mimetype": "text/x-python",
   "name": "python",
   "nbconvert_exporter": "python",
   "pygments_lexer": "ipython3",
   "version": "3.7.11"
  },
  "orig_nbformat": 4
 },
 "nbformat": 4,
 "nbformat_minor": 2
}
